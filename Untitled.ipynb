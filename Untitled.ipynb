{
 "cells": [
  {
   "cell_type": "code",
   "execution_count": null,
   "metadata": {},
   "outputs": [],
   "source": [
    "l = [62,853,526\n",
    "47392365\n",
    "33687610\n",
    "24869120\n",
    "16470676\n",
    "14256520\n",
    "12816001\n",
    "11543747\n",
    "13289310\n",
    "12563751\n",
    "11857531\n",
    "12171391\n",
    "12155026 \n",
    "11958765\n",
    "11846111\n",
    "12098182 "
   ]
  }
 ],
 "metadata": {
  "kernelspec": {
   "display_name": "Python 3",
   "language": "python",
   "name": "python3"
  },
  "language_info": {
   "codemirror_mode": {
    "name": "ipython",
    "version": 3
   },
   "file_extension": ".py",
   "mimetype": "text/x-python",
   "name": "python",
   "nbconvert_exporter": "python",
   "pygments_lexer": "ipython3",
   "version": "3.6.8"
  }
 },
 "nbformat": 4,
 "nbformat_minor": 2
}
